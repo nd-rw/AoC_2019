{
 "cells": [
  {
   "cell_type": "markdown",
   "metadata": {},
   "source": [
    "<h1>Advent of Code: Day 1</h1>"
   ]
  },
  {
   "cell_type": "markdown",
   "metadata": {},
   "source": [
    "Using Peter's helpful snippet pathlib snippet (https://twitter.com/pmbaumgartner/status/1201641398535098368) to quickly read the contents of a `.txt` file as a string."
   ]
  },
  {
   "cell_type": "code",
   "execution_count": 66,
   "metadata": {},
   "outputs": [],
   "source": [
    "from pathlib import Path\n",
    "text = Path(\"input.txt\").read_text()"
   ]
  },
  {
   "cell_type": "markdown",
   "metadata": {},
   "source": [
    "Now I'm splitting the string based on the newline character (`\\n`) and storing it in the variable `input_list`"
   ]
  },
  {
   "cell_type": "code",
   "execution_count": 67,
   "metadata": {},
   "outputs": [],
   "source": [
    "input_list = text.split(\"\\n\")"
   ]
  },
  {
   "cell_type": "markdown",
   "metadata": {},
   "source": [
    "Here I create a new list (`filtered_input_list`), filtering out any empty string values (I had one at the end of my file).\n",
    "Within the list I'm using python's `filter` function, which takes a function (a lambda in this case) and a list.\n",
    "\n",
    "Explaining the lambda: for each value (x) in the list, return if `True` if it meets the criteria of `x != ' '` (x is not equal to a space character).\n",
    "\n",
    "This results in a new list with spaces filtered out; I could have implemented these cleaning steps when calculating fuel amounts below, but personally I prefer to clean my data seperately before I properly start working on it!"
   ]
  },
  {
   "cell_type": "code",
   "execution_count": 68,
   "metadata": {},
   "outputs": [],
   "source": [
    "filtered_input_list = list(filter(lambda x: x != '', input_list))"
   ]
  },
  {
   "cell_type": "markdown",
   "metadata": {},
   "source": [
    "I then use the `map` function to convert all the strings in that list into ints"
   ]
  },
  {
   "cell_type": "code",
   "execution_count": 69,
   "metadata": {},
   "outputs": [],
   "source": [
    "converted_input_list = list(map(int, filtered_input_list))"
   ]
  },
  {
   "cell_type": "markdown",
   "metadata": {},
   "source": [
    "I've turned all the above steps into a function which reads a file_path an returns a filtered array of values, I've also merged two lines into one for *aesthetics*."
   ]
  },
  {
   "cell_type": "code",
   "execution_count": 70,
   "metadata": {},
   "outputs": [],
   "source": [
    "def read_puzzle_input(file_path):\n",
    "    text = Path(file_path).read_text()\n",
    "    filtered_input_list = list(map(int, list(filter(lambda x: x != '', text.split(\"\\n\")))))\n",
    "    return filtered_input_list"
   ]
  },
  {
   "cell_type": "code",
   "execution_count": 71,
   "metadata": {},
   "outputs": [
    {
     "data": {
      "text/plain": [
       "33585"
      ]
     },
     "execution_count": 71,
     "metadata": {},
     "output_type": "execute_result"
    }
   ],
   "source": [
    "int(100756/3)"
   ]
  },
  {
   "cell_type": "markdown",
   "metadata": {},
   "source": [
    "\".. to find the fuel required for a module, take its mass, divide by three, round down, and subtract 2.\"\n",
    "\n",
    "i.e: `int(mass / 3) - 2`\n",
    "\n",
    "python's `int` rounds floats down by default so I don't have to write any code for that part. The AoC website has a number of example inputs and correct answers which I can test quickly now.\n",
    "\n",
    "fuel_calc(12) = 2\n",
    "\n",
    "fuel_calc(14) = 2\n",
    "\n",
    "fuel_calc(1969) = 654\n",
    "\n",
    "fuel_calc(100756) = 33583"
   ]
  },
  {
   "cell_type": "code",
   "execution_count": 72,
   "metadata": {},
   "outputs": [],
   "source": [
    "def fuel_calc(mass):\n",
    "    fuel_req = int(mass/3) -2\n",
    "    return fuel_req"
   ]
  },
  {
   "cell_type": "code",
   "execution_count": 73,
   "metadata": {},
   "outputs": [
    {
     "data": {
      "text/plain": [
       "654"
      ]
     },
     "execution_count": 73,
     "metadata": {},
     "output_type": "execute_result"
    }
   ],
   "source": [
    "fuel_calc(1969)"
   ]
  },
  {
   "cell_type": "code",
   "execution_count": 74,
   "metadata": {},
   "outputs": [],
   "source": [
    "test_values = [12, 14, 1969, 100756]"
   ]
  },
  {
   "cell_type": "code",
   "execution_count": 75,
   "metadata": {},
   "outputs": [
    {
     "name": "stdout",
     "output_type": "stream",
     "text": [
      "value: 12\n",
      "fuel required: 2\n",
      "\n",
      "value: 14\n",
      "fuel required: 2\n",
      "\n",
      "value: 1969\n",
      "fuel required: 654\n",
      "\n",
      "value: 100756\n",
      "fuel required: 33583\n",
      "\n"
     ]
    }
   ],
   "source": [
    "for value in test_values:\n",
    "    print(\"value: \" + str(value))\n",
    "    print(\"fuel required: \" + str(fuel_calc(value)))\n",
    "    print()"
   ]
  },
  {
   "cell_type": "markdown",
   "metadata": {},
   "source": [
    "Day 1's puzzle just wants a sum of the fuel requirements for each module, so the only pieces of logic I need to figure out now are:\n",
    "\n",
    "- appending all the fuel required values to an array"
   ]
  },
  {
   "cell_type": "code",
   "execution_count": 76,
   "metadata": {},
   "outputs": [
    {
     "name": "stdout",
     "output_type": "stream",
     "text": [
      "[2, 2, 654, 33583]\n"
     ]
    }
   ],
   "source": [
    "# it's always important to declare empty lists or objects when working with data IMO,\n",
    "# it improves readability and ensures you're working with a fresh/empty variable.\n",
    "fuel_required_list = list()\n",
    "for value in test_values:\n",
    "    fuel_required_list.append(fuel_calc(value))\n",
    "print(fuel_required_list)"
   ]
  },
  {
   "cell_type": "markdown",
   "metadata": {},
   "source": [
    "- summing (`using sum()`) all of the values in the array to produce the answer"
   ]
  },
  {
   "cell_type": "code",
   "execution_count": 77,
   "metadata": {},
   "outputs": [
    {
     "data": {
      "text/plain": [
       "34241"
      ]
     },
     "execution_count": 77,
     "metadata": {},
     "output_type": "execute_result"
    }
   ],
   "source": [
    "sum(fuel_required_list)"
   ]
  },
  {
   "cell_type": "markdown",
   "metadata": {},
   "source": [
    "Looks like a number of sorts, now to throw it all in a function again and use the `read_puzzle_input` and the `fuel_calc` functions we created before."
   ]
  },
  {
   "cell_type": "code",
   "execution_count": 83,
   "metadata": {},
   "outputs": [],
   "source": [
    "puzzle_input = read_input('input.txt')"
   ]
  },
  {
   "cell_type": "code",
   "execution_count": 81,
   "metadata": {},
   "outputs": [],
   "source": [
    "def calculate_fuel(puzzle_input):\n",
    "    req_fuel_list = list()\n",
    "    for mass in puzzle_input:\n",
    "        req_fuel_list.append(fuel_calc(mass))\n",
    "    total_fuel_req = sum(req_fuel_list)\n",
    "    return total_fuel_req"
   ]
  },
  {
   "cell_type": "code",
   "execution_count": 80,
   "metadata": {},
   "outputs": [
    {
     "name": "stdout",
     "output_type": "stream",
     "text": [
      "total fuel required: 3437969\n"
     ]
    },
    {
     "data": {
      "text/plain": [
       "3437969"
      ]
     },
     "execution_count": 80,
     "metadata": {},
     "output_type": "execute_result"
    }
   ],
   "source": [
    "calculate_fuel(puzzle_input)"
   ]
  }
 ],
 "metadata": {
  "kernelspec": {
   "display_name": "Python 3",
   "language": "python",
   "name": "python3"
  },
  "language_info": {
   "codemirror_mode": {
    "name": "ipython",
    "version": 3
   },
   "file_extension": ".py",
   "mimetype": "text/x-python",
   "name": "python",
   "nbconvert_exporter": "python",
   "pygments_lexer": "ipython3",
   "version": "3.6.8"
  }
 },
 "nbformat": 4,
 "nbformat_minor": 2
}
